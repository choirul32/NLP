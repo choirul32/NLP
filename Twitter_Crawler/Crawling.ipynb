{
 "cells": [
  {
   "cell_type": "code",
   "execution_count": 1,
   "metadata": {},
   "outputs": [],
   "source": [
    "import tweepy"
   ]
  },
  {
   "cell_type": "code",
   "execution_count": 30,
   "metadata": {},
   "outputs": [],
   "source": [
    "consumer_key = 'NpGs7OhqboYu7IxDIWw5drDSr'\n",
    "consumer_secret = 'WA3L6YYd76GvGzMzFqAhP2RkqPXpFFHxuM1k9OUxThvStjShwr'\n",
    "access_token = '1951831687-o0wQNmWLFqskWM7LrZqadRp6ZKfbR9cgywDfYaH'\n",
    "access_secret = 'qnDAb3C4W3f1JHw46i01KTjxxVKloOgxLXmfsXpq0JaAU'\n",
    "tweetsPerQry = 100\n",
    "maxTweets = 1000\n",
    "hashtag = \"gurun sahara\""
   ]
  },
  {
   "cell_type": "code",
   "execution_count": 31,
   "metadata": {},
   "outputs": [],
   "source": [
    "authentication = tweepy.OAuthHandler(consumer_key, consumer_secret)\n",
    "authentication.set_access_token(access_token, access_secret)\n",
    "api = tweepy.API(authentication, wait_on_rate_limit=True, wait_on_rate_limit_notify=True)"
   ]
  },
  {
   "cell_type": "code",
   "execution_count": 32,
   "metadata": {
    "scrolled": true
   },
   "outputs": [],
   "source": [
    "maxId = -1\n",
    "tweetCount = 0\n",
    "tweets = []\n",
    "while tweetCount < maxTweets:\n",
    "    if(maxId <= 0):\n",
    "        newTweets = api.search(q=hashtag, count=tweetsPerQry, result_type=\"recent\", tweet_mode=\"extended\")\n",
    "    else:\n",
    "        newTweets = api.search(q=hashtag, count=tweetsPerQry, max_id=str(maxId - 1), result_type=\"recent\", tweet_mode=\"extended\")\n",
    "\n",
    "    if not newTweets:\n",
    "        print(\"Tweet Habis\")\n",
    "        break\n",
    "    \n",
    "    for tweet in newTweets:\n",
    "        tweets.append(tweet.full_text.encode('utf-8'))\n",
    "    tweetCount += len(newTweets)\n",
    "    maxId = newTweets[-1].id"
   ]
  },
  {
   "cell_type": "code",
   "execution_count": 35,
   "metadata": {},
   "outputs": [],
   "source": [
    "f = open('tweets.txt','w')\n",
    "for tweet in tweets:\n",
    "    f.write(str(tweet)+'\\n')\n",
    "f.close()"
   ]
  },
  {
   "cell_type": "code",
   "execution_count": null,
   "metadata": {},
   "outputs": [],
   "source": []
  }
 ],
 "metadata": {
  "kernelspec": {
   "display_name": "Python 3",
   "language": "python",
   "name": "python3"
  },
  "language_info": {
   "codemirror_mode": {
    "name": "ipython",
    "version": 3
   },
   "file_extension": ".py",
   "mimetype": "text/x-python",
   "name": "python",
   "nbconvert_exporter": "python",
   "pygments_lexer": "ipython3",
   "version": "3.8.5"
  }
 },
 "nbformat": 4,
 "nbformat_minor": 4
}
